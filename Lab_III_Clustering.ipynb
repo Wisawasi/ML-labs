{
  "nbformat": 4,
  "nbformat_minor": 0,
  "metadata": {
    "kernelspec": {
      "display_name": "Python 3",
      "language": "python",
      "name": "python3"
    },
    "language_info": {
      "codemirror_mode": {
        "name": "ipython",
        "version": 3
      },
      "file_extension": ".py",
      "mimetype": "text/x-python",
      "name": "python",
      "nbconvert_exporter": "python",
      "pygments_lexer": "ipython3",
      "version": "3.8.6"
    },
    "colab": {
      "name": "Lab III Clustering.ipynb",
      "provenance": [],
      "include_colab_link": true
    }
  },
  "cells": [
    {
      "cell_type": "markdown",
      "metadata": {
        "id": "view-in-github",
        "colab_type": "text"
      },
      "source": [
        "<a href=\"https://colab.research.google.com/github/imcinstitute/ML-labs/blob/main/Lab_III_Clustering.ipynb\" target=\"_parent\"><img src=\"https://colab.research.google.com/assets/colab-badge.svg\" alt=\"Open In Colab\"/></a>"
      ]
    },
    {
      "cell_type": "markdown",
      "metadata": {
        "id": "ONeHY1pjEEAp"
      },
      "source": [
        "# Intermediate Machine Learning with scikit-learn"
      ]
    },
    {
      "cell_type": "markdown",
      "metadata": {
        "id": "Fm1rTie8EEAr"
      },
      "source": [
        "## Clustering\n",
        "\n",
        "For an introduction to clustering algorithms, let us look at another visualization copied from the [scikit-learn documentation](http://scikit-learn.org/stable/modules/clustering.html). This is a visualization of several synthetic distributions in two dimensions to allow visualization.  We can  see that some distributions that do not have convex differentiation throw off some clutering algorithms.  Of course, given the low dimensionality, these examples are somewhat toys."
      ]
    },
    {
      "cell_type": "code",
      "metadata": {
        "id": "7g4VCnO5EEAt"
      },
      "source": [
        "import pandas as pd\n",
        "import warnings\n",
        "warnings.simplefilter(\"ignore\")"
      ],
      "execution_count": null,
      "outputs": []
    },
    {
      "cell_type": "code",
      "metadata": {
        "id": "jTN2ARC5EEAu",
        "colab": {
          "base_uri": "https://localhost:8080/"
        },
        "outputId": "411f339b-ed74-47a7-fd1b-e809349dd9d6"
      },
      "source": [
        "from sklearn import datasets\n",
        "boston = datasets.load_boston()\n",
        "print(boston.DESCR)"
      ],
      "execution_count": null,
      "outputs": [
        {
          "output_type": "stream",
          "text": [
            ".. _boston_dataset:\n",
            "\n",
            "Boston house prices dataset\n",
            "---------------------------\n",
            "\n",
            "**Data Set Characteristics:**  \n",
            "\n",
            "    :Number of Instances: 506 \n",
            "\n",
            "    :Number of Attributes: 13 numeric/categorical predictive. Median Value (attribute 14) is usually the target.\n",
            "\n",
            "    :Attribute Information (in order):\n",
            "        - CRIM     per capita crime rate by town\n",
            "        - ZN       proportion of residential land zoned for lots over 25,000 sq.ft.\n",
            "        - INDUS    proportion of non-retail business acres per town\n",
            "        - CHAS     Charles River dummy variable (= 1 if tract bounds river; 0 otherwise)\n",
            "        - NOX      nitric oxides concentration (parts per 10 million)\n",
            "        - RM       average number of rooms per dwelling\n",
            "        - AGE      proportion of owner-occupied units built prior to 1940\n",
            "        - DIS      weighted distances to five Boston employment centres\n",
            "        - RAD      index of accessibility to radial highways\n",
            "        - TAX      full-value property-tax rate per $10,000\n",
            "        - PTRATIO  pupil-teacher ratio by town\n",
            "        - B        1000(Bk - 0.63)^2 where Bk is the proportion of blacks by town\n",
            "        - LSTAT    % lower status of the population\n",
            "        - MEDV     Median value of owner-occupied homes in $1000's\n",
            "\n",
            "    :Missing Attribute Values: None\n",
            "\n",
            "    :Creator: Harrison, D. and Rubinfeld, D.L.\n",
            "\n",
            "This is a copy of UCI ML housing dataset.\n",
            "https://archive.ics.uci.edu/ml/machine-learning-databases/housing/\n",
            "\n",
            "\n",
            "This dataset was taken from the StatLib library which is maintained at Carnegie Mellon University.\n",
            "\n",
            "The Boston house-price data of Harrison, D. and Rubinfeld, D.L. 'Hedonic\n",
            "prices and the demand for clean air', J. Environ. Economics & Management,\n",
            "vol.5, 81-102, 1978.   Used in Belsley, Kuh & Welsch, 'Regression diagnostics\n",
            "...', Wiley, 1980.   N.B. Various transformations are used in the table on\n",
            "pages 244-261 of the latter.\n",
            "\n",
            "The Boston house-price data has been used in many machine learning papers that address regression\n",
            "problems.   \n",
            "     \n",
            ".. topic:: References\n",
            "\n",
            "   - Belsley, Kuh & Welsch, 'Regression diagnostics: Identifying Influential Data and Sources of Collinearity', Wiley, 1980. 244-261.\n",
            "   - Quinlan,R. (1993). Combining Instance-Based and Model-Based Learning. In Proceedings on the Tenth International Conference of Machine Learning, 236-243, University of Massachusetts, Amherst. Morgan Kaufmann.\n",
            "\n"
          ],
          "name": "stdout"
        }
      ]
    },
    {
      "cell_type": "code",
      "metadata": {
        "id": "juv2kj3AEEAu",
        "colab": {
          "base_uri": "https://localhost:8080/",
          "height": 204
        },
        "outputId": "a48892f5-aff5-4efc-f5ae-b143708643b1"
      },
      "source": [
        "boston_df = pd.DataFrame(boston.data, columns=boston.feature_names)\n",
        "boston_df.head()"
      ],
      "execution_count": null,
      "outputs": [
        {
          "output_type": "execute_result",
          "data": {
            "text/html": [
              "<div>\n",
              "<style scoped>\n",
              "    .dataframe tbody tr th:only-of-type {\n",
              "        vertical-align: middle;\n",
              "    }\n",
              "\n",
              "    .dataframe tbody tr th {\n",
              "        vertical-align: top;\n",
              "    }\n",
              "\n",
              "    .dataframe thead th {\n",
              "        text-align: right;\n",
              "    }\n",
              "</style>\n",
              "<table border=\"1\" class=\"dataframe\">\n",
              "  <thead>\n",
              "    <tr style=\"text-align: right;\">\n",
              "      <th></th>\n",
              "      <th>CRIM</th>\n",
              "      <th>ZN</th>\n",
              "      <th>INDUS</th>\n",
              "      <th>CHAS</th>\n",
              "      <th>NOX</th>\n",
              "      <th>RM</th>\n",
              "      <th>AGE</th>\n",
              "      <th>DIS</th>\n",
              "      <th>RAD</th>\n",
              "      <th>TAX</th>\n",
              "      <th>PTRATIO</th>\n",
              "      <th>B</th>\n",
              "      <th>LSTAT</th>\n",
              "    </tr>\n",
              "  </thead>\n",
              "  <tbody>\n",
              "    <tr>\n",
              "      <th>0</th>\n",
              "      <td>0.00632</td>\n",
              "      <td>18.0</td>\n",
              "      <td>2.31</td>\n",
              "      <td>0.0</td>\n",
              "      <td>0.538</td>\n",
              "      <td>6.575</td>\n",
              "      <td>65.2</td>\n",
              "      <td>4.0900</td>\n",
              "      <td>1.0</td>\n",
              "      <td>296.0</td>\n",
              "      <td>15.3</td>\n",
              "      <td>396.90</td>\n",
              "      <td>4.98</td>\n",
              "    </tr>\n",
              "    <tr>\n",
              "      <th>1</th>\n",
              "      <td>0.02731</td>\n",
              "      <td>0.0</td>\n",
              "      <td>7.07</td>\n",
              "      <td>0.0</td>\n",
              "      <td>0.469</td>\n",
              "      <td>6.421</td>\n",
              "      <td>78.9</td>\n",
              "      <td>4.9671</td>\n",
              "      <td>2.0</td>\n",
              "      <td>242.0</td>\n",
              "      <td>17.8</td>\n",
              "      <td>396.90</td>\n",
              "      <td>9.14</td>\n",
              "    </tr>\n",
              "    <tr>\n",
              "      <th>2</th>\n",
              "      <td>0.02729</td>\n",
              "      <td>0.0</td>\n",
              "      <td>7.07</td>\n",
              "      <td>0.0</td>\n",
              "      <td>0.469</td>\n",
              "      <td>7.185</td>\n",
              "      <td>61.1</td>\n",
              "      <td>4.9671</td>\n",
              "      <td>2.0</td>\n",
              "      <td>242.0</td>\n",
              "      <td>17.8</td>\n",
              "      <td>392.83</td>\n",
              "      <td>4.03</td>\n",
              "    </tr>\n",
              "    <tr>\n",
              "      <th>3</th>\n",
              "      <td>0.03237</td>\n",
              "      <td>0.0</td>\n",
              "      <td>2.18</td>\n",
              "      <td>0.0</td>\n",
              "      <td>0.458</td>\n",
              "      <td>6.998</td>\n",
              "      <td>45.8</td>\n",
              "      <td>6.0622</td>\n",
              "      <td>3.0</td>\n",
              "      <td>222.0</td>\n",
              "      <td>18.7</td>\n",
              "      <td>394.63</td>\n",
              "      <td>2.94</td>\n",
              "    </tr>\n",
              "    <tr>\n",
              "      <th>4</th>\n",
              "      <td>0.06905</td>\n",
              "      <td>0.0</td>\n",
              "      <td>2.18</td>\n",
              "      <td>0.0</td>\n",
              "      <td>0.458</td>\n",
              "      <td>7.147</td>\n",
              "      <td>54.2</td>\n",
              "      <td>6.0622</td>\n",
              "      <td>3.0</td>\n",
              "      <td>222.0</td>\n",
              "      <td>18.7</td>\n",
              "      <td>396.90</td>\n",
              "      <td>5.33</td>\n",
              "    </tr>\n",
              "  </tbody>\n",
              "</table>\n",
              "</div>"
            ],
            "text/plain": [
              "      CRIM    ZN  INDUS  CHAS    NOX  ...  RAD    TAX  PTRATIO       B  LSTAT\n",
              "0  0.00632  18.0   2.31   0.0  0.538  ...  1.0  296.0     15.3  396.90   4.98\n",
              "1  0.02731   0.0   7.07   0.0  0.469  ...  2.0  242.0     17.8  396.90   9.14\n",
              "2  0.02729   0.0   7.07   0.0  0.469  ...  2.0  242.0     17.8  392.83   4.03\n",
              "3  0.03237   0.0   2.18   0.0  0.458  ...  3.0  222.0     18.7  394.63   2.94\n",
              "4  0.06905   0.0   2.18   0.0  0.458  ...  3.0  222.0     18.7  396.90   5.33\n",
              "\n",
              "[5 rows x 13 columns]"
            ]
          },
          "metadata": {
            "tags": []
          },
          "execution_count": 4
        }
      ]
    },
    {
      "cell_type": "markdown",
      "metadata": {
        "id": "97g_U1yiEEAv"
      },
      "source": [
        "### Distances in Parametric Space\n",
        "\n",
        "This is mostly for a later lesson, but many clustering algorithms are sensitive to the distances between points in a parameteric space in a unit-dependent way.  A later lesson on feature engineering will look at scaling data in more detail.  For some of the examples in this lesson, scaling will make little difference; however, for a few of them the absolute units of features becomes important.\n",
        "\n",
        "Therefore, in the below examples, you will see line like this in the cells that fit models:\n",
        "\n",
        "```python\n",
        "X = StandardScaler().fit_transform(the_data)\n",
        "```"
      ]
    },
    {
      "cell_type": "code",
      "metadata": {
        "id": "Yq50AhBYEEAv"
      },
      "source": [
        "from sklearn.preprocessing import StandardScaler\n",
        "X = StandardScaler().fit_transform(boston.data)"
      ],
      "execution_count": null,
      "outputs": []
    },
    {
      "cell_type": "markdown",
      "metadata": {
        "id": "rRldudiREEAw"
      },
      "source": [
        "## Cluster into N Classes\n",
        "\n",
        "For the next few cells, we will use `SpectralClustering` to group our dataset into four synthetic classes.  Informally, we will call these classes \"low\", \"mid_low\", \"mid_high\", and \"high\" corresponding to our hypothesis that price is a good proxy for these classes.  From the documentation, the algorithm is described as follows:\n",
        "\n",
        "> `SpectralClustering` does a low-dimension embedding of the affinity matrix between samples, followed by a KMeans in the low dimensional space. It is especially efficient if the affinity matrix is sparse and the [`pyamg`](https://github.com/pyamg/pyamg) module is installed. `SpectralClustering` requires the number of clusters to be specified. It works well for a small number of clusters but is not advised when using many clusters."
      ]
    },
    {
      "cell_type": "code",
      "metadata": {
        "id": "inQe3Wj8EEAx",
        "colab": {
          "base_uri": "https://localhost:8080/"
        },
        "outputId": "a540a5ab-291c-4a39-ff63-292cef60bb85"
      },
      "source": [
        "from sklearn import cluster\n",
        "model = cluster.KMeans(n_clusters=4)\n",
        "model.fit(X)"
      ],
      "execution_count": null,
      "outputs": [
        {
          "output_type": "execute_result",
          "data": {
            "text/plain": [
              "KMeans(algorithm='auto', copy_x=True, init='k-means++', max_iter=300,\n",
              "       n_clusters=4, n_init=10, n_jobs=None, precompute_distances='auto',\n",
              "       random_state=None, tol=0.0001, verbose=0)"
            ]
          },
          "metadata": {
            "tags": []
          },
          "execution_count": 7
        }
      ]
    },
    {
      "cell_type": "code",
      "metadata": {
        "id": "eHH6Ck4wHePl"
      },
      "source": [
        " spectral = cluster.SpectralClustering(\n",
        "        n_clusters=4, eigen_solver='arpack',\n",
        "        affinity=\"nearest_neighbors\")"
      ],
      "execution_count": null,
      "outputs": []
    },
    {
      "cell_type": "markdown",
      "metadata": {
        "id": "_kxtflS7EEAx"
      },
      "source": [
        "After fitting the data, what we get is labels for each sample.  These are simply integers in `range(n_clusters)`, with no inherent semantic meaning.  I.e. 0, 1, 2, or 3 in this case."
      ]
    },
    {
      "cell_type": "code",
      "metadata": {
        "id": "TECbXc1FEEAx",
        "colab": {
          "base_uri": "https://localhost:8080/"
        },
        "outputId": "08ffa668-bf24-4f92-eb67-fee44b33a86d"
      },
      "source": [
        "print(model.labels_)"
      ],
      "execution_count": null,
      "outputs": [
        {
          "output_type": "stream",
          "text": [
            "[3 3 3 3 3 3 3 3 3 3 3 3 3 3 3 3 3 3 3 3 3 3 3 3 3 3 3 3 3 3 3 3 3 3 3 3 3\n",
            " 3 3 2 2 3 3 3 3 3 3 3 3 3 3 3 2 2 2 2 2 2 2 3 3 3 3 2 2 2 2 3 3 3 3 3 3 3\n",
            " 3 3 3 3 3 3 2 3 2 3 3 3 3 3 3 3 3 3 3 3 3 3 3 3 3 3 3 3 3 3 3 3 3 3 3 3 3\n",
            " 3 3 3 3 3 3 3 3 3 3 3 3 3 3 3 3 1 1 1 3 3 3 1 1 1 1 1 1 1 1 1 0 1 1 1 1 1\n",
            " 1 1 1 1 0 1 0 0 1 3 3 3 0 3 0 0 3 3 3 3 3 3 3 3 3 3 3 3 3 3 3 3 3 3 3 3 3\n",
            " 3 3 2 2 2 2 2 2 2 2 2 2 2 2 2 2 2 2 2 2 3 3 3 0 0 0 0 0 3 3 3 0 3 0 0 0 0\n",
            " 0 3 3 3 3 3 3 3 3 3 3 3 0 3 0 3 2 2 2 3 2 2 3 3 2 3 2 2 2 2 2 2 2 2 2 3 3\n",
            " 3 3 3 3 3 3 3 3 3 3 0 3 3 3 0 0 2 0 0 2 2 2 2 0 2 2 2 2 2 2 2 2 2 2 3 3 3\n",
            " 3 3 2 2 2 2 2 2 2 3 3 3 3 3 3 3 3 3 3 3 3 3 3 3 3 3 3 3 3 3 3 3 3 3 3 2 2\n",
            " 3 3 3 3 3 3 3 3 2 3 2 2 3 3 2 2 2 2 2 2 2 2 2 0 0 0 1 1 1 1 0 0 1 1 1 1 0\n",
            " 0 1 0 1 1 1 1 1 1 1 1 1 1 1 1 1 1 1 1 1 1 1 1 1 1 1 1 1 1 1 1 1 1 1 1 1 1\n",
            " 1 1 1 1 1 1 1 1 1 1 1 1 1 1 1 1 1 1 1 1 1 1 1 1 1 1 1 1 1 1 1 1 1 1 1 1 1\n",
            " 1 1 1 1 1 1 1 1 1 1 1 1 1 1 1 1 1 1 1 1 1 1 1 1 1 1 1 1 1 1 1 1 1 1 1 1 1\n",
            " 1 1 1 1 1 1 1 1 1 1 1 1 3 3 3 3 3 3 3 3 3 3 3 3 3]\n"
          ],
          "name": "stdout"
        }
      ]
    },
    {
      "cell_type": "markdown",
      "metadata": {
        "id": "cN4xyDkXEEAy"
      },
      "source": [
        "After we do the clustering, let us group the dataset by the cluster labels.  We will enhance the Pandas DataFrame that holds the data by adding columns for the derived category and the known price.  We also give hopefully more meaningful names to the clusters.  We only display some of the features to narrow discussion."
      ]
    },
    {
      "cell_type": "code",
      "metadata": {
        "id": "h1z8RKK0EEAz",
        "colab": {
          "base_uri": "https://localhost:8080/",
          "height": 173
        },
        "outputId": "13835aa3-42a2-44bd-f6b7-8b6258110825"
      },
      "source": [
        "# Let us do minor Pandas manipulation to view clusters in an intuitive way\n",
        "boston_df['category'] = model.labels_\n",
        "boston_df['PRICE'] = boston.target\n",
        "boston_clusters = boston_df.groupby('category').mean().sort_values('PRICE')\n",
        "boston_clusters.index = ['low', 'mid_low', 'mid_high', 'high']\n",
        "cols = ['PRICE'] + list(boston_clusters.columns[:-1])\n",
        "boston_clusters = boston_clusters[cols]\n",
        "boston_clusters[['PRICE', 'CRIM', 'RM', 'AGE', 'DIS']]"
      ],
      "execution_count": null,
      "outputs": [
        {
          "output_type": "execute_result",
          "data": {
            "text/html": [
              "<div>\n",
              "<style scoped>\n",
              "    .dataframe tbody tr th:only-of-type {\n",
              "        vertical-align: middle;\n",
              "    }\n",
              "\n",
              "    .dataframe tbody tr th {\n",
              "        vertical-align: top;\n",
              "    }\n",
              "\n",
              "    .dataframe thead th {\n",
              "        text-align: right;\n",
              "    }\n",
              "</style>\n",
              "<table border=\"1\" class=\"dataframe\">\n",
              "  <thead>\n",
              "    <tr style=\"text-align: right;\">\n",
              "      <th></th>\n",
              "      <th>PRICE</th>\n",
              "      <th>CRIM</th>\n",
              "      <th>RM</th>\n",
              "      <th>AGE</th>\n",
              "      <th>DIS</th>\n",
              "    </tr>\n",
              "  </thead>\n",
              "  <tbody>\n",
              "    <tr>\n",
              "      <th>low</th>\n",
              "      <td>15.468421</td>\n",
              "      <td>11.000595</td>\n",
              "      <td>5.931428</td>\n",
              "      <td>91.007237</td>\n",
              "      <td>2.013852</td>\n",
              "    </tr>\n",
              "    <tr>\n",
              "      <th>mid_low</th>\n",
              "      <td>24.030085</td>\n",
              "      <td>0.364622</td>\n",
              "      <td>6.326644</td>\n",
              "      <td>66.333898</td>\n",
              "      <td>3.930817</td>\n",
              "    </tr>\n",
              "    <tr>\n",
              "      <th>mid_high</th>\n",
              "      <td>27.805882</td>\n",
              "      <td>1.905690</td>\n",
              "      <td>6.478324</td>\n",
              "      <td>79.050000</td>\n",
              "      <td>2.945729</td>\n",
              "    </tr>\n",
              "    <tr>\n",
              "      <th>high</th>\n",
              "      <td>28.975000</td>\n",
              "      <td>0.065576</td>\n",
              "      <td>6.727345</td>\n",
              "      <td>30.039286</td>\n",
              "      <td>6.980458</td>\n",
              "    </tr>\n",
              "  </tbody>\n",
              "</table>\n",
              "</div>"
            ],
            "text/plain": [
              "              PRICE       CRIM        RM        AGE       DIS\n",
              "low       15.468421  11.000595  5.931428  91.007237  2.013852\n",
              "mid_low   24.030085   0.364622  6.326644  66.333898  3.930817\n",
              "mid_high  27.805882   1.905690  6.478324  79.050000  2.945729\n",
              "high      28.975000   0.065576  6.727345  30.039286  6.980458"
            ]
          },
          "metadata": {
            "tags": []
          },
          "execution_count": 10
        }
      ]
    },
    {
      "cell_type": "markdown",
      "metadata": {
        "id": "LyFN1Y5iEEAz"
      },
      "source": [
        "At first brush, it looks like price is pretty well differentiated by cluster.  Remember that price did not participate in the clustering model; so inasmuch as they correspond, it confirms our working hypothesis.\n",
        "\n",
        "Other columns have interstingly different patterns.  Crime rate is high for the \"low\" category houses, then drops to almost none for \"mid_low\", \"mid_high\", and \"high.\"  In contrast, the number of rooms varies little by category.  Distance to employment centers is low and similar for the first three categories of houses, but much larger for the \"high\" category houses.  Age of house shows a similar, but less dramatic, pattern as distance.\n",
        "\n",
        "Let us try to get a handle on who well price is genuinely differentiated by category."
      ]
    },
    {
      "cell_type": "code",
      "metadata": {
        "id": "e1IUGBV_EEA0",
        "colab": {
          "base_uri": "https://localhost:8080/",
          "height": 173
        },
        "outputId": "d541bdd2-5b15-4a60-edbc-1c59a2a4180c"
      },
      "source": [
        "clusters = boston_df.groupby('category').PRICE.agg(['mean', 'median', 'std']).sort_values('mean')\n",
        "clusters.index = ['low', 'mid_low', 'mid_high', 'high']\n",
        "clusters"
      ],
      "execution_count": null,
      "outputs": [
        {
          "output_type": "execute_result",
          "data": {
            "text/html": [
              "<div>\n",
              "<style scoped>\n",
              "    .dataframe tbody tr th:only-of-type {\n",
              "        vertical-align: middle;\n",
              "    }\n",
              "\n",
              "    .dataframe tbody tr th {\n",
              "        vertical-align: top;\n",
              "    }\n",
              "\n",
              "    .dataframe thead th {\n",
              "        text-align: right;\n",
              "    }\n",
              "</style>\n",
              "<table border=\"1\" class=\"dataframe\">\n",
              "  <thead>\n",
              "    <tr style=\"text-align: right;\">\n",
              "      <th></th>\n",
              "      <th>mean</th>\n",
              "      <th>median</th>\n",
              "      <th>std</th>\n",
              "    </tr>\n",
              "  </thead>\n",
              "  <tbody>\n",
              "    <tr>\n",
              "      <th>low</th>\n",
              "      <td>15.468421</td>\n",
              "      <td>14.45</td>\n",
              "      <td>6.430293</td>\n",
              "    </tr>\n",
              "    <tr>\n",
              "      <th>mid_low</th>\n",
              "      <td>24.030085</td>\n",
              "      <td>22.00</td>\n",
              "      <td>7.902883</td>\n",
              "    </tr>\n",
              "    <tr>\n",
              "      <th>mid_high</th>\n",
              "      <td>27.805882</td>\n",
              "      <td>23.15</td>\n",
              "      <td>11.373839</td>\n",
              "    </tr>\n",
              "    <tr>\n",
              "      <th>high</th>\n",
              "      <td>28.975000</td>\n",
              "      <td>27.25</td>\n",
              "      <td>7.746214</td>\n",
              "    </tr>\n",
              "  </tbody>\n",
              "</table>\n",
              "</div>"
            ],
            "text/plain": [
              "               mean  median        std\n",
              "low       15.468421   14.45   6.430293\n",
              "mid_low   24.030085   22.00   7.902883\n",
              "mid_high  27.805882   23.15  11.373839\n",
              "high      28.975000   27.25   7.746214"
            ]
          },
          "metadata": {
            "tags": []
          },
          "execution_count": 11
        }
      ]
    },
    {
      "cell_type": "markdown",
      "metadata": {
        "id": "qSLbJh4GEEA0"
      },
      "source": [
        "In a visual representation of the pattern we see *pretty good* but not overwhelming differentiation. One category of houses show a wide range of prices, while other categories tend to be more narrowly centered."
      ]
    },
    {
      "cell_type": "code",
      "metadata": {
        "id": "-DrgoKjmEEA0",
        "colab": {
          "base_uri": "https://localhost:8080/",
          "height": 404
        },
        "outputId": "04259c1b-0134-44f7-e6da-0a3fbe777dc5"
      },
      "source": [
        "%matplotlib inline\n",
        "import matplotlib.pyplot as plt\n",
        "import seaborn as sns\n",
        "\n",
        "fig, ax = plt.subplots(figsize=(14,6))\n",
        "\n",
        "sns.distplot(boston_df[boston_df.category == 0].PRICE, hist=False, rug=True)\n",
        "sns.distplot(boston_df[boston_df.category == 1].PRICE, hist=False, rug=True)\n",
        "sns.distplot(boston_df[boston_df.category == 2].PRICE, hist=False, rug=True)\n",
        "sns.distplot(boston_df[boston_df.category == 3].PRICE, hist=False, rug=True)\n",
        "ax.set_title(\"Distribution of clusters on PRICE\");"
      ],
      "execution_count": null,
      "outputs": [
        {
          "output_type": "display_data",
          "data": {
            "image/png": "[encoded data removed]",
            "text/plain": [
              "<Figure size 1008x432 with 1 Axes>"
            ]
          },
          "metadata": {
            "tags": [],
            "needs_background": "light"
          }
        }
      ]
    },
    {
      "cell_type": "markdown",
      "metadata": {
        "id": "p_0PgQjmEEA1"
      },
      "source": [
        "Given our fairly successful confirmation of our hypothesis in regard to 1970s Boston housing prices  relative to independent features, let us try the same exercise with the much larger 1990s California housing prices dataset."
      ]
    },
    {
      "cell_type": "code",
      "metadata": {
        "id": "1cz2yPU3EEA_",
        "colab": {
          "base_uri": "https://localhost:8080/"
        },
        "outputId": "cd849ec5-bfa0-4ba9-a989-c22d0cfc900a"
      },
      "source": [
        "# Fit several clustering models that take n_clusters\n",
        "from sklearn import cluster\n",
        "\n",
        "X = StandardScaler().fit_transform(boston.data)\n",
        "\n",
        "models = [cluster.SpectralClustering(n_clusters=4), \n",
        "          cluster.KMeans(n_clusters=4), \n",
        "          cluster.MiniBatchKMeans(n_clusters=4), \n",
        "          cluster.AgglomerativeClustering(n_clusters=4)]\n",
        "\n",
        "for model in models:\n",
        "    model.fit(X)\n",
        "    print(model.__class__.__name__)\n",
        "    print(\"\\tFirst 5 labels\", model.labels_[:5])\n",
        "    print(\"\\t\", len(model.labels_))"
      ],
      "execution_count": null,
      "outputs": [
        {
          "output_type": "stream",
          "text": [
            "SpectralClustering\n",
            "\tFirst 5 labels [0 0 0 0 0]\n",
            "\t 506\n",
            "KMeans\n",
            "\tFirst 5 labels [1 1 1 1 1]\n",
            "\t 506\n",
            "MiniBatchKMeans\n",
            "\tFirst 5 labels [0 2 2 0 0]\n",
            "\t 506\n",
            "AgglomerativeClustering\n",
            "\tFirst 5 labels [0 0 0 0 0]\n",
            "\t 506\n"
          ],
          "name": "stdout"
        }
      ]
    },
    {
      "cell_type": "markdown",
      "metadata": {
        "id": "369F2Sr6EEA_"
      },
      "source": [
        "In the example above, all four clustering models selected assigned the same class to the first five samples.  However, the particular number given to that class might be any of the four possible values (depending even on random seeds).  The label numbers are not interesting, only the samples assigned to them."
      ]
    },
    {
      "cell_type": "code",
      "metadata": {
        "id": "r-4cscnXEEA_",
        "colab": {
          "base_uri": "https://localhost:8080/"
        },
        "outputId": "c464ad63-3315-4dba-968e-e4dbe20e3f8a"
      },
      "source": [
        "# ... then measure their pairwise similarity\n",
        "from sklearn import metrics\n",
        "from itertools import combinations\n",
        "\n",
        "for clust1, clust2 in combinations(models, 2):\n",
        "    print(clust1.__class__.__name__, \"versus\", clust2.__class__.__name__)\n",
        "    print(\"\\tRand score:\", metrics.adjusted_rand_score(clust1.labels_, clust2.labels_))\n",
        "    print(\"\\tMutual info:\", metrics.adjusted_mutual_info_score(clust1.labels_, clust2.labels_))\n"
      ],
      "execution_count": null,
      "outputs": [
        {
          "output_type": "stream",
          "text": [
            "SpectralClustering versus KMeans\n",
            "\tRand score: 0.5007432836108199\n",
            "\tMutual info: 0.6250423744484865\n",
            "SpectralClustering versus MiniBatchKMeans\n",
            "\tRand score: 0.47199012066950025\n",
            "\tMutual info: 0.6292439023674503\n",
            "SpectralClustering versus AgglomerativeClustering\n",
            "\tRand score: 0.550129525055905\n",
            "\tMutual info: 0.7298262007281899\n",
            "KMeans versus MiniBatchKMeans\n",
            "\tRand score: 0.8124075442004166\n",
            "\tMutual info: 0.8358105300621039\n",
            "KMeans versus AgglomerativeClustering\n",
            "\tRand score: 0.43894990177154813\n",
            "\tMutual info: 0.605454287068588\n",
            "MiniBatchKMeans versus AgglomerativeClustering\n",
            "\tRand score: 0.4730009548732117\n",
            "\tMutual info: 0.6085005936450512\n"
          ],
          "name": "stdout"
        }
      ]
    }
  ]
}