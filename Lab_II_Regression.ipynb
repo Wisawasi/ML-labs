{
  "nbformat": 4,
  "nbformat_minor": 0,
  "metadata": {
    "kernelspec": {
      "display_name": "Python 3",
      "language": "python",
      "name": "python3"
    },
    "language_info": {
      "codemirror_mode": {
        "name": "ipython",
        "version": 3
      },
      "file_extension": ".py",
      "mimetype": "text/x-python",
      "name": "python",
      "nbconvert_exporter": "python",
      "pygments_lexer": "ipython3",
      "version": "3.8.6"
    },
    "colab": {
      "name": "Lab II Regression.ipynb",
      "provenance": [],
      "include_colab_link": true
    }
  },
  "cells": [
    {
      "cell_type": "markdown",
      "metadata": {
        "id": "view-in-github",
        "colab_type": "text"
      },
      "source": [
        "<a href=\"https://colab.research.google.com/github/imcinstitute/ML-labs/blob/main/Lab_II_Regression.ipynb\" target=\"_parent\"><img src=\"https://colab.research.google.com/assets/colab-badge.svg\" alt=\"Open In Colab\"/></a>"
      ]
    },
    {
      "cell_type": "markdown",
      "metadata": {
        "id": "C7kY4sHwn3oj"
      },
      "source": [
        "# Beginning Machine Learning with scikit-learn"
      ]
    },
    {
      "cell_type": "markdown",
      "metadata": {
        "id": "50kHJ1FFn3on"
      },
      "source": [
        "## California Housing Data\n",
        "\n",
        "One downloadable dataset is the California housing data.  It has a target of house price, and 8 features.  There are 20 thousands samples in it, so it is reasonably large sized.  That is, it is nowhere close to the modern datasets of millions or billions of observations we sometimes work with; but it is also not a toy dataset of dozens or hundreds of observations that are often shown for demonstration purposes (including in prior lessons of this course)."
      ]
    },
    {
      "cell_type": "code",
      "metadata": {
        "id": "OSw69jXPn3oo"
      },
      "source": [
        "import pandas as pd\n",
        "import numpy as np # linear algebra\n",
        "import requests\n",
        "\n",
        "column_names = ['CRIM','ZN','INDUS','CHAS','NOX','RM', 'DIS', 'RAD', 'TAX','PTRATIO', 'B', 'MEDV']\n",
        "url = \"http://archive.ics.uci.edu/ml/machine-learning-databases/housing/housing.data\"\n",
        "dataset=pd.read_csv(url, names=column_names, na_values = \"?\", comment='\\t',sep=\" \", skipinitialspace=True)\n"
      ],
      "execution_count": null,
      "outputs": []
    },
    {
      "cell_type": "code",
      "metadata": {
        "id": "xysaYyi_n3oo",
        "colab": {
          "base_uri": "https://localhost:8080/",
          "height": 204
        },
        "outputId": "44369536-0d7a-4b25-b506-fcd3824dafd4"
      },
      "source": [
        "dataset.tail()"
      ],
      "execution_count": null,
      "outputs": [
        {
          "output_type": "execute_result",
          "data": {
            "text/html": [
              "<div>\n",
              "<style scoped>\n",
              "    .dataframe tbody tr th:only-of-type {\n",
              "        vertical-align: middle;\n",
              "    }\n",
              "\n",
              "    .dataframe tbody tr th {\n",
              "        vertical-align: top;\n",
              "    }\n",
              "\n",
              "    .dataframe thead th {\n",
              "        text-align: right;\n",
              "    }\n",
              "</style>\n",
              "<table border=\"1\" class=\"dataframe\">\n",
              "  <thead>\n",
              "    <tr style=\"text-align: right;\">\n",
              "      <th></th>\n",
              "      <th></th>\n",
              "      <th>CRIM</th>\n",
              "      <th>ZN</th>\n",
              "      <th>INDUS</th>\n",
              "      <th>CHAS</th>\n",
              "      <th>NOX</th>\n",
              "      <th>RM</th>\n",
              "      <th>DIS</th>\n",
              "      <th>RAD</th>\n",
              "      <th>TAX</th>\n",
              "      <th>PTRATIO</th>\n",
              "      <th>B</th>\n",
              "      <th>MEDV</th>\n",
              "    </tr>\n",
              "  </thead>\n",
              "  <tbody>\n",
              "    <tr>\n",
              "      <th>0.06263</th>\n",
              "      <th>0.0</th>\n",
              "      <td>11.93</td>\n",
              "      <td>0</td>\n",
              "      <td>0.573</td>\n",
              "      <td>6.593</td>\n",
              "      <td>69.1</td>\n",
              "      <td>2.4786</td>\n",
              "      <td>1</td>\n",
              "      <td>273.0</td>\n",
              "      <td>21.0</td>\n",
              "      <td>391.99</td>\n",
              "      <td>9.67</td>\n",
              "      <td>22.4</td>\n",
              "    </tr>\n",
              "    <tr>\n",
              "      <th>0.04527</th>\n",
              "      <th>0.0</th>\n",
              "      <td>11.93</td>\n",
              "      <td>0</td>\n",
              "      <td>0.573</td>\n",
              "      <td>6.120</td>\n",
              "      <td>76.7</td>\n",
              "      <td>2.2875</td>\n",
              "      <td>1</td>\n",
              "      <td>273.0</td>\n",
              "      <td>21.0</td>\n",
              "      <td>396.90</td>\n",
              "      <td>9.08</td>\n",
              "      <td>20.6</td>\n",
              "    </tr>\n",
              "    <tr>\n",
              "      <th>0.06076</th>\n",
              "      <th>0.0</th>\n",
              "      <td>11.93</td>\n",
              "      <td>0</td>\n",
              "      <td>0.573</td>\n",
              "      <td>6.976</td>\n",
              "      <td>91.0</td>\n",
              "      <td>2.1675</td>\n",
              "      <td>1</td>\n",
              "      <td>273.0</td>\n",
              "      <td>21.0</td>\n",
              "      <td>396.90</td>\n",
              "      <td>5.64</td>\n",
              "      <td>23.9</td>\n",
              "    </tr>\n",
              "    <tr>\n",
              "      <th>0.10959</th>\n",
              "      <th>0.0</th>\n",
              "      <td>11.93</td>\n",
              "      <td>0</td>\n",
              "      <td>0.573</td>\n",
              "      <td>6.794</td>\n",
              "      <td>89.3</td>\n",
              "      <td>2.3889</td>\n",
              "      <td>1</td>\n",
              "      <td>273.0</td>\n",
              "      <td>21.0</td>\n",
              "      <td>393.45</td>\n",
              "      <td>6.48</td>\n",
              "      <td>22.0</td>\n",
              "    </tr>\n",
              "    <tr>\n",
              "      <th>0.04741</th>\n",
              "      <th>0.0</th>\n",
              "      <td>11.93</td>\n",
              "      <td>0</td>\n",
              "      <td>0.573</td>\n",
              "      <td>6.030</td>\n",
              "      <td>80.8</td>\n",
              "      <td>2.5050</td>\n",
              "      <td>1</td>\n",
              "      <td>273.0</td>\n",
              "      <td>21.0</td>\n",
              "      <td>396.90</td>\n",
              "      <td>7.88</td>\n",
              "      <td>11.9</td>\n",
              "    </tr>\n",
              "  </tbody>\n",
              "</table>\n",
              "</div>"
            ],
            "text/plain": [
              "              CRIM  ZN  INDUS   CHAS   NOX  ...    RAD   TAX  PTRATIO     B  MEDV\n",
              "0.06263 0.0  11.93   0  0.573  6.593  69.1  ...  273.0  21.0   391.99  9.67  22.4\n",
              "0.04527 0.0  11.93   0  0.573  6.120  76.7  ...  273.0  21.0   396.90  9.08  20.6\n",
              "0.06076 0.0  11.93   0  0.573  6.976  91.0  ...  273.0  21.0   396.90  5.64  23.9\n",
              "0.10959 0.0  11.93   0  0.573  6.794  89.3  ...  273.0  21.0   393.45  6.48  22.0\n",
              "0.04741 0.0  11.93   0  0.573  6.030  80.8  ...  273.0  21.0   396.90  7.88  11.9\n",
              "\n",
              "[5 rows x 12 columns]"
            ]
          },
          "metadata": {
            "tags": []
          },
          "execution_count": 37
        }
      ]
    },
    {
      "cell_type": "code",
      "metadata": {
        "colab": {
          "base_uri": "https://localhost:8080/"
        },
        "id": "Ihvcb4Kz5Tew",
        "outputId": "51ddb0b6-0f8b-4ba0-a519-38c75cab859a"
      },
      "source": [
        "dataset.shape"
      ],
      "execution_count": null,
      "outputs": [
        {
          "output_type": "execute_result",
          "data": {
            "text/plain": [
              "(506, 12)"
            ]
          },
          "metadata": {
            "tags": []
          },
          "execution_count": 38
        }
      ]
    },
    {
      "cell_type": "markdown",
      "metadata": {
        "id": "NuArwa6On3op"
      },
      "source": [
        "For convenience, it is often useful to massage the standard format of scikit-learn dataset objects.  These objects all have a attributes `.DESCR`, `.feature_names`, `.data`, `.target`.  The latter two are NumPy arrays.  The feature names are simply a Python list of strings.  The description is a single string that has newlines and simple formatting with citations and links inside it.\n",
        "\n",
        "The California housing dataset has a fairly brief description.  For comparison, the Boston housing dataset has fewer observations but more citational detail."
      ]
    },
    {
      "cell_type": "code",
      "metadata": {
        "id": "FfY6ShvSn3op",
        "colab": {
          "base_uri": "https://localhost:8080/"
        },
        "outputId": "325c6ec4-e0bd-4b4f-bf59-8500a74aee5c"
      },
      "source": [
        "dataset.info(verbose=True)"
      ],
      "execution_count": null,
      "outputs": [
        {
          "output_type": "stream",
          "text": [
            "<class 'pandas.core.frame.DataFrame'>\n",
            "MultiIndex: 506 entries, (0.00632, 18.0) to (0.04741, 0.0)\n",
            "Data columns (total 12 columns):\n",
            " #   Column   Non-Null Count  Dtype  \n",
            "---  ------   --------------  -----  \n",
            " 0   CRIM     506 non-null    float64\n",
            " 1   ZN       506 non-null    int64  \n",
            " 2   INDUS    506 non-null    float64\n",
            " 3   CHAS     506 non-null    float64\n",
            " 4   NOX      506 non-null    float64\n",
            " 5   RM       506 non-null    float64\n",
            " 6   DIS      506 non-null    int64  \n",
            " 7   RAD      506 non-null    float64\n",
            " 8   TAX      506 non-null    float64\n",
            " 9   PTRATIO  506 non-null    float64\n",
            " 10  B        506 non-null    float64\n",
            " 11  MEDV     506 non-null    float64\n",
            "dtypes: float64(10), int64(2)\n",
            "memory usage: 74.3 KB\n"
          ],
          "name": "stdout"
        }
      ]
    },
    {
      "cell_type": "code",
      "metadata": {
        "colab": {
          "base_uri": "https://localhost:8080/"
        },
        "id": "lw047tlC4_E-",
        "outputId": "3969ed13-f87e-47cc-fbfc-b58ade3d41e1"
      },
      "source": [
        "dataset.isna().sum()"
      ],
      "execution_count": null,
      "outputs": [
        {
          "output_type": "execute_result",
          "data": {
            "text/plain": [
              "CRIM       0\n",
              "ZN         0\n",
              "INDUS      0\n",
              "CHAS       0\n",
              "NOX        0\n",
              "RM         0\n",
              "DIS        0\n",
              "RAD        0\n",
              "TAX        0\n",
              "PTRATIO    0\n",
              "B          0\n",
              "MEDV       0\n",
              "dtype: int64"
            ]
          },
          "metadata": {
            "tags": []
          },
          "execution_count": 40
        }
      ]
    },
    {
      "cell_type": "code",
      "metadata": {
        "id": "Q7t3Ele4n3oq",
        "colab": {
          "base_uri": "https://localhost:8080/",
          "height": 297
        },
        "outputId": "093b726e-83b6-4384-fb8a-80d5a9f5469f"
      },
      "source": [
        "dataset.describe()"
      ],
      "execution_count": null,
      "outputs": [
        {
          "output_type": "execute_result",
          "data": {
            "text/html": [
              "<div>\n",
              "<style scoped>\n",
              "    .dataframe tbody tr th:only-of-type {\n",
              "        vertical-align: middle;\n",
              "    }\n",
              "\n",
              "    .dataframe tbody tr th {\n",
              "        vertical-align: top;\n",
              "    }\n",
              "\n",
              "    .dataframe thead th {\n",
              "        text-align: right;\n",
              "    }\n",
              "</style>\n",
              "<table border=\"1\" class=\"dataframe\">\n",
              "  <thead>\n",
              "    <tr style=\"text-align: right;\">\n",
              "      <th></th>\n",
              "      <th>CRIM</th>\n",
              "      <th>ZN</th>\n",
              "      <th>INDUS</th>\n",
              "      <th>CHAS</th>\n",
              "      <th>NOX</th>\n",
              "      <th>RM</th>\n",
              "      <th>DIS</th>\n",
              "      <th>RAD</th>\n",
              "      <th>TAX</th>\n",
              "      <th>PTRATIO</th>\n",
              "      <th>B</th>\n",
              "      <th>MEDV</th>\n",
              "    </tr>\n",
              "  </thead>\n",
              "  <tbody>\n",
              "    <tr>\n",
              "      <th>count</th>\n",
              "      <td>506.000000</td>\n",
              "      <td>506.000000</td>\n",
              "      <td>506.000000</td>\n",
              "      <td>506.000000</td>\n",
              "      <td>506.000000</td>\n",
              "      <td>506.000000</td>\n",
              "      <td>506.000000</td>\n",
              "      <td>506.000000</td>\n",
              "      <td>506.000000</td>\n",
              "      <td>506.000000</td>\n",
              "      <td>506.000000</td>\n",
              "      <td>506.000000</td>\n",
              "    </tr>\n",
              "    <tr>\n",
              "      <th>mean</th>\n",
              "      <td>11.136779</td>\n",
              "      <td>0.069170</td>\n",
              "      <td>0.554695</td>\n",
              "      <td>6.284634</td>\n",
              "      <td>68.574901</td>\n",
              "      <td>3.795043</td>\n",
              "      <td>9.549407</td>\n",
              "      <td>408.237154</td>\n",
              "      <td>18.455534</td>\n",
              "      <td>356.674032</td>\n",
              "      <td>12.653063</td>\n",
              "      <td>22.532806</td>\n",
              "    </tr>\n",
              "    <tr>\n",
              "      <th>std</th>\n",
              "      <td>6.860353</td>\n",
              "      <td>0.253994</td>\n",
              "      <td>0.115878</td>\n",
              "      <td>0.702617</td>\n",
              "      <td>28.148861</td>\n",
              "      <td>2.105710</td>\n",
              "      <td>8.707259</td>\n",
              "      <td>168.537116</td>\n",
              "      <td>2.164946</td>\n",
              "      <td>91.294864</td>\n",
              "      <td>7.141062</td>\n",
              "      <td>9.197104</td>\n",
              "    </tr>\n",
              "    <tr>\n",
              "      <th>min</th>\n",
              "      <td>0.460000</td>\n",
              "      <td>0.000000</td>\n",
              "      <td>0.385000</td>\n",
              "      <td>3.561000</td>\n",
              "      <td>2.900000</td>\n",
              "      <td>1.129600</td>\n",
              "      <td>1.000000</td>\n",
              "      <td>187.000000</td>\n",
              "      <td>12.600000</td>\n",
              "      <td>0.320000</td>\n",
              "      <td>1.730000</td>\n",
              "      <td>5.000000</td>\n",
              "    </tr>\n",
              "    <tr>\n",
              "      <th>25%</th>\n",
              "      <td>5.190000</td>\n",
              "      <td>0.000000</td>\n",
              "      <td>0.449000</td>\n",
              "      <td>5.885500</td>\n",
              "      <td>45.025000</td>\n",
              "      <td>2.100175</td>\n",
              "      <td>4.000000</td>\n",
              "      <td>279.000000</td>\n",
              "      <td>17.400000</td>\n",
              "      <td>375.377500</td>\n",
              "      <td>6.950000</td>\n",
              "      <td>17.025000</td>\n",
              "    </tr>\n",
              "    <tr>\n",
              "      <th>50%</th>\n",
              "      <td>9.690000</td>\n",
              "      <td>0.000000</td>\n",
              "      <td>0.538000</td>\n",
              "      <td>6.208500</td>\n",
              "      <td>77.500000</td>\n",
              "      <td>3.207450</td>\n",
              "      <td>5.000000</td>\n",
              "      <td>330.000000</td>\n",
              "      <td>19.050000</td>\n",
              "      <td>391.440000</td>\n",
              "      <td>11.360000</td>\n",
              "      <td>21.200000</td>\n",
              "    </tr>\n",
              "    <tr>\n",
              "      <th>75%</th>\n",
              "      <td>18.100000</td>\n",
              "      <td>0.000000</td>\n",
              "      <td>0.624000</td>\n",
              "      <td>6.623500</td>\n",
              "      <td>94.075000</td>\n",
              "      <td>5.188425</td>\n",
              "      <td>24.000000</td>\n",
              "      <td>666.000000</td>\n",
              "      <td>20.200000</td>\n",
              "      <td>396.225000</td>\n",
              "      <td>16.955000</td>\n",
              "      <td>25.000000</td>\n",
              "    </tr>\n",
              "    <tr>\n",
              "      <th>max</th>\n",
              "      <td>27.740000</td>\n",
              "      <td>1.000000</td>\n",
              "      <td>0.871000</td>\n",
              "      <td>8.780000</td>\n",
              "      <td>100.000000</td>\n",
              "      <td>12.126500</td>\n",
              "      <td>24.000000</td>\n",
              "      <td>711.000000</td>\n",
              "      <td>22.000000</td>\n",
              "      <td>396.900000</td>\n",
              "      <td>37.970000</td>\n",
              "      <td>50.000000</td>\n",
              "    </tr>\n",
              "  </tbody>\n",
              "</table>\n",
              "</div>"
            ],
            "text/plain": [
              "             CRIM          ZN       INDUS  ...     PTRATIO           B        MEDV\n",
              "count  506.000000  506.000000  506.000000  ...  506.000000  506.000000  506.000000\n",
              "mean    11.136779    0.069170    0.554695  ...  356.674032   12.653063   22.532806\n",
              "std      6.860353    0.253994    0.115878  ...   91.294864    7.141062    9.197104\n",
              "min      0.460000    0.000000    0.385000  ...    0.320000    1.730000    5.000000\n",
              "25%      5.190000    0.000000    0.449000  ...  375.377500    6.950000   17.025000\n",
              "50%      9.690000    0.000000    0.538000  ...  391.440000   11.360000   21.200000\n",
              "75%     18.100000    0.000000    0.624000  ...  396.225000   16.955000   25.000000\n",
              "max     27.740000    1.000000    0.871000  ...  396.900000   37.970000   50.000000\n",
              "\n",
              "[8 rows x 12 columns]"
            ]
          },
          "metadata": {
            "tags": []
          },
          "execution_count": 41
        }
      ]
    },
    {
      "cell_type": "code",
      "metadata": {
        "colab": {
          "base_uri": "https://localhost:8080/",
          "height": 879
        },
        "id": "9NsHupMfw1ob",
        "outputId": "78b467a3-7b06-4dcd-a60b-baa5933a452f"
      },
      "source": [
        "import matplotlib.pyplot as plt\n",
        "dataset.hist(bins=100, figsize=(20,15))\n",
        "plt.show()"
      ],
      "execution_count": null,
      "outputs": [
        {
          "output_type": "display_data",
          "data": {
            "image/png": "[encoded data removed]",
            "text/plain": [
              "<Figure size 1440x1080 with 12 Axes>"
            ]
          },
          "metadata": {
            "tags": [],
            "needs_background": "light"
          }
        }
      ]
    },
    {
      "cell_type": "code",
      "metadata": {
        "id": "rcC1BSFun3or",
        "colab": {
          "base_uri": "https://localhost:8080/"
        },
        "outputId": "403516b9-4d0d-43ce-db76-e83a8fbfe76e"
      },
      "source": [
        "#Create Train and Evaluate dataset\n",
        "X = dataset.drop('MEDV',axis=1)\n",
        "y = dataset['MEDV']\n",
        "\n",
        "\n",
        "from sklearn.model_selection import train_test_split\n",
        "# Split dataset into training set and test set\n",
        "X_train, X_test, y_train, y_test = train_test_split(X, y, test_size=0.2, random_state=1) # 80% training and 20% test\n",
        "\n",
        "print(\"Training features/target:\", X_train.shape, y_train.shape)\n",
        "print(\"Testing features/target:\", X_test.shape, y_test.shape)\n"
      ],
      "execution_count": null,
      "outputs": [
        {
          "output_type": "stream",
          "text": [
            "Training features/target: (404, 11) (404,)\n",
            "Testing features/target: (102, 11) (102,)\n"
          ],
          "name": "stdout"
        }
      ]
    },
    {
      "cell_type": "code",
      "metadata": {
        "colab": {
          "base_uri": "https://localhost:8080/",
          "height": 923
        },
        "id": "xn8pq6DC-VgL",
        "outputId": "791e28fe-db14-4b88-b36f-f3a46cd92eb7"
      },
      "source": [
        "import seaborn as sns\n",
        "sns.pairplot(X_train[[\"CRIM\", \"INDUS\", \"TAX\"]],\n",
        "             diag_kind=\"kde\")\n",
        "train_stats = X_train.describe()\n",
        "train_stats = train_stats.transpose()\n",
        "train_stats\n"
      ],
      "execution_count": null,
      "outputs": [
        {
          "output_type": "execute_result",
          "data": {
            "text/html": [
              "<div>\n",
              "<style scoped>\n",
              "    .dataframe tbody tr th:only-of-type {\n",
              "        vertical-align: middle;\n",
              "    }\n",
              "\n",
              "    .dataframe tbody tr th {\n",
              "        vertical-align: top;\n",
              "    }\n",
              "\n",
              "    .dataframe thead th {\n",
              "        text-align: right;\n",
              "    }\n",
              "</style>\n",
              "<table border=\"1\" class=\"dataframe\">\n",
              "  <thead>\n",
              "    <tr style=\"text-align: right;\">\n",
              "      <th></th>\n",
              "      <th>count</th>\n",
              "      <th>mean</th>\n",
              "      <th>std</th>\n",
              "      <th>min</th>\n",
              "      <th>25%</th>\n",
              "      <th>50%</th>\n",
              "      <th>75%</th>\n",
              "      <th>max</th>\n",
              "    </tr>\n",
              "  </thead>\n",
              "  <tbody>\n",
              "    <tr>\n",
              "      <th>CRIM</th>\n",
              "      <td>404.0</td>\n",
              "      <td>11.077500</td>\n",
              "      <td>6.848412</td>\n",
              "      <td>0.4600</td>\n",
              "      <td>5.19000</td>\n",
              "      <td>9.1250</td>\n",
              "      <td>18.100000</td>\n",
              "      <td>27.7400</td>\n",
              "    </tr>\n",
              "    <tr>\n",
              "      <th>ZN</th>\n",
              "      <td>404.0</td>\n",
              "      <td>0.079208</td>\n",
              "      <td>0.270398</td>\n",
              "      <td>0.0000</td>\n",
              "      <td>0.00000</td>\n",
              "      <td>0.0000</td>\n",
              "      <td>0.000000</td>\n",
              "      <td>1.0000</td>\n",
              "    </tr>\n",
              "    <tr>\n",
              "      <th>INDUS</th>\n",
              "      <td>404.0</td>\n",
              "      <td>0.553026</td>\n",
              "      <td>0.116895</td>\n",
              "      <td>0.3850</td>\n",
              "      <td>0.44800</td>\n",
              "      <td>0.5350</td>\n",
              "      <td>0.624000</td>\n",
              "      <td>0.8710</td>\n",
              "    </tr>\n",
              "    <tr>\n",
              "      <th>CHAS</th>\n",
              "      <td>404.0</td>\n",
              "      <td>6.268792</td>\n",
              "      <td>0.689229</td>\n",
              "      <td>3.5610</td>\n",
              "      <td>5.87675</td>\n",
              "      <td>6.1790</td>\n",
              "      <td>6.626500</td>\n",
              "      <td>8.7800</td>\n",
              "    </tr>\n",
              "    <tr>\n",
              "      <th>NOX</th>\n",
              "      <td>404.0</td>\n",
              "      <td>67.935644</td>\n",
              "      <td>28.563186</td>\n",
              "      <td>2.9000</td>\n",
              "      <td>43.25000</td>\n",
              "      <td>76.8000</td>\n",
              "      <td>93.825000</td>\n",
              "      <td>100.0000</td>\n",
              "    </tr>\n",
              "    <tr>\n",
              "      <th>RM</th>\n",
              "      <td>404.0</td>\n",
              "      <td>3.826111</td>\n",
              "      <td>2.120999</td>\n",
              "      <td>1.1296</td>\n",
              "      <td>2.10535</td>\n",
              "      <td>3.2986</td>\n",
              "      <td>5.141475</td>\n",
              "      <td>12.1265</td>\n",
              "    </tr>\n",
              "    <tr>\n",
              "      <th>DIS</th>\n",
              "      <td>404.0</td>\n",
              "      <td>9.470297</td>\n",
              "      <td>8.680237</td>\n",
              "      <td>1.0000</td>\n",
              "      <td>4.00000</td>\n",
              "      <td>5.0000</td>\n",
              "      <td>24.000000</td>\n",
              "      <td>24.0000</td>\n",
              "    </tr>\n",
              "    <tr>\n",
              "      <th>RAD</th>\n",
              "      <td>404.0</td>\n",
              "      <td>403.257426</td>\n",
              "      <td>169.030480</td>\n",
              "      <td>187.0000</td>\n",
              "      <td>277.00000</td>\n",
              "      <td>329.0000</td>\n",
              "      <td>666.000000</td>\n",
              "      <td>711.0000</td>\n",
              "    </tr>\n",
              "    <tr>\n",
              "      <th>TAX</th>\n",
              "      <td>404.0</td>\n",
              "      <td>18.438614</td>\n",
              "      <td>2.169469</td>\n",
              "      <td>12.6000</td>\n",
              "      <td>17.22500</td>\n",
              "      <td>19.0000</td>\n",
              "      <td>20.200000</td>\n",
              "      <td>22.0000</td>\n",
              "    </tr>\n",
              "    <tr>\n",
              "      <th>PTRATIO</th>\n",
              "      <td>404.0</td>\n",
              "      <td>357.153688</td>\n",
              "      <td>91.541647</td>\n",
              "      <td>0.3200</td>\n",
              "      <td>376.09250</td>\n",
              "      <td>391.5750</td>\n",
              "      <td>396.157500</td>\n",
              "      <td>396.9000</td>\n",
              "    </tr>\n",
              "    <tr>\n",
              "      <th>B</th>\n",
              "      <td>404.0</td>\n",
              "      <td>12.778540</td>\n",
              "      <td>7.216403</td>\n",
              "      <td>1.7300</td>\n",
              "      <td>7.09250</td>\n",
              "      <td>11.4650</td>\n",
              "      <td>17.102500</td>\n",
              "      <td>37.9700</td>\n",
              "    </tr>\n",
              "  </tbody>\n",
              "</table>\n",
              "</div>"
            ],
            "text/plain": [
              "         count        mean         std  ...       50%         75%       max\n",
              "CRIM     404.0   11.077500    6.848412  ...    9.1250   18.100000   27.7400\n",
              "ZN       404.0    0.079208    0.270398  ...    0.0000    0.000000    1.0000\n",
              "INDUS    404.0    0.553026    0.116895  ...    0.5350    0.624000    0.8710\n",
              "CHAS     404.0    6.268792    0.689229  ...    6.1790    6.626500    8.7800\n",
              "NOX      404.0   67.935644   28.563186  ...   76.8000   93.825000  100.0000\n",
              "RM       404.0    3.826111    2.120999  ...    3.2986    5.141475   12.1265\n",
              "DIS      404.0    9.470297    8.680237  ...    5.0000   24.000000   24.0000\n",
              "RAD      404.0  403.257426  169.030480  ...  329.0000  666.000000  711.0000\n",
              "TAX      404.0   18.438614    2.169469  ...   19.0000   20.200000   22.0000\n",
              "PTRATIO  404.0  357.153688   91.541647  ...  391.5750  396.157500  396.9000\n",
              "B        404.0   12.778540    7.216403  ...   11.4650   17.102500   37.9700\n",
              "\n",
              "[11 rows x 8 columns]"
            ]
          },
          "metadata": {
            "tags": []
          },
          "execution_count": 46
        },
        {
          "output_type": "display_data",
          "data": {
            "image/png": "[encoded data removed]",
            "text/plain": [
              "<Figure size 540x540 with 12 Axes>"
            ]
          },
          "metadata": {
            "tags": [],
            "needs_background": "light"
          }
        }
      ]
    },
    {
      "cell_type": "code",
      "metadata": {
        "colab": {
          "base_uri": "https://localhost:8080/",
          "height": 204
        },
        "id": "c5REJ-ni_YOb",
        "outputId": "ecc6c9d8-35d8-4170-febb-5db9e6b7578e"
      },
      "source": [
        "#normalized the data\n",
        "def norm(x):\n",
        " return (x - train_stats['mean']) / train_stats['std']\n",
        "X_train = norm(X_train)\n",
        "X_test = norm(X_test)\n",
        "X_train.tail()\n",
        "X_test.tail()"
      ],
      "execution_count": null,
      "outputs": [
        {
          "output_type": "execute_result",
          "data": {
            "text/html": [
              "<div>\n",
              "<style scoped>\n",
              "    .dataframe tbody tr th:only-of-type {\n",
              "        vertical-align: middle;\n",
              "    }\n",
              "\n",
              "    .dataframe tbody tr th {\n",
              "        vertical-align: top;\n",
              "    }\n",
              "\n",
              "    .dataframe thead th {\n",
              "        text-align: right;\n",
              "    }\n",
              "</style>\n",
              "<table border=\"1\" class=\"dataframe\">\n",
              "  <thead>\n",
              "    <tr style=\"text-align: right;\">\n",
              "      <th></th>\n",
              "      <th></th>\n",
              "      <th>CRIM</th>\n",
              "      <th>ZN</th>\n",
              "      <th>INDUS</th>\n",
              "      <th>CHAS</th>\n",
              "      <th>NOX</th>\n",
              "      <th>RM</th>\n",
              "      <th>DIS</th>\n",
              "      <th>RAD</th>\n",
              "      <th>TAX</th>\n",
              "      <th>PTRATIO</th>\n",
              "      <th>B</th>\n",
              "    </tr>\n",
              "  </thead>\n",
              "  <tbody>\n",
              "    <tr>\n",
              "      <th>0.04203</th>\n",
              "      <th>28.0</th>\n",
              "      <td>0.578601</td>\n",
              "      <td>-0.292931</td>\n",
              "      <td>-0.761594</td>\n",
              "      <td>0.251307</td>\n",
              "      <td>-0.501892</td>\n",
              "      <td>-0.075535</td>\n",
              "      <td>-0.630201</td>\n",
              "      <td>-0.788363</td>\n",
              "      <td>-0.109987</td>\n",
              "      <td>0.413542</td>\n",
              "      <td>-0.640006</td>\n",
              "    </tr>\n",
              "    <tr>\n",
              "      <th>0.31533</th>\n",
              "      <th>0.0</th>\n",
              "      <td>-0.712209</td>\n",
              "      <td>-0.292931</td>\n",
              "      <td>-0.419405</td>\n",
              "      <td>2.897744</td>\n",
              "      <td>0.362857</td>\n",
              "      <td>-0.439279</td>\n",
              "      <td>-0.169384</td>\n",
              "      <td>-0.569468</td>\n",
              "      <td>-0.478741</td>\n",
              "      <td>0.304739</td>\n",
              "      <td>-1.197070</td>\n",
              "    </tr>\n",
              "    <tr>\n",
              "      <th>0.10793</th>\n",
              "      <th>0.0</th>\n",
              "      <td>-0.367603</td>\n",
              "      <td>-0.292931</td>\n",
              "      <td>-0.282530</td>\n",
              "      <td>-0.107065</td>\n",
              "      <td>-0.473884</td>\n",
              "      <td>-0.494253</td>\n",
              "      <td>-0.514997</td>\n",
              "      <td>-0.113929</td>\n",
              "      <td>1.134557</td>\n",
              "      <td>0.396937</td>\n",
              "      <td>0.030688</td>\n",
              "    </tr>\n",
              "    <tr>\n",
              "      <th>12.24720</th>\n",
              "      <th>0.0</th>\n",
              "      <td>1.025420</td>\n",
              "      <td>-0.292931</td>\n",
              "      <td>0.264972</td>\n",
              "      <td>-0.626486</td>\n",
              "      <td>-0.288331</td>\n",
              "      <td>-0.862099</td>\n",
              "      <td>1.673883</td>\n",
              "      <td>1.554409</td>\n",
              "      <td>0.811897</td>\n",
              "      <td>-3.632267</td>\n",
              "      <td>0.403450</td>\n",
              "    </tr>\n",
              "    <tr>\n",
              "      <th>9.96654</th>\n",
              "      <th>0.0</th>\n",
              "      <td>1.025420</td>\n",
              "      <td>-0.292931</td>\n",
              "      <td>1.599506</td>\n",
              "      <td>0.313695</td>\n",
              "      <td>1.122576</td>\n",
              "      <td>-0.871151</td>\n",
              "      <td>1.673883</td>\n",
              "      <td>1.554409</td>\n",
              "      <td>0.811897</td>\n",
              "      <td>0.323091</td>\n",
              "      <td>0.841342</td>\n",
              "    </tr>\n",
              "  </tbody>\n",
              "</table>\n",
              "</div>"
            ],
            "text/plain": [
              "                   CRIM        ZN     INDUS  ...       TAX   PTRATIO         B\n",
              "0.04203  28.0  0.578601 -0.292931 -0.761594  ... -0.109987  0.413542 -0.640006\n",
              "0.31533  0.0  -0.712209 -0.292931 -0.419405  ... -0.478741  0.304739 -1.197070\n",
              "0.10793  0.0  -0.367603 -0.292931 -0.282530  ...  1.134557  0.396937  0.030688\n",
              "12.24720 0.0   1.025420 -0.292931  0.264972  ...  0.811897 -3.632267  0.403450\n",
              "9.96654  0.0   1.025420 -0.292931  1.599506  ...  0.811897  0.323091  0.841342\n",
              "\n",
              "[5 rows x 11 columns]"
            ]
          },
          "metadata": {
            "tags": []
          },
          "execution_count": 47
        }
      ]
    },
    {
      "cell_type": "code",
      "metadata": {
        "colab": {
          "base_uri": "https://localhost:8080/"
        },
        "id": "pmniXr9GAvpr",
        "outputId": "f73059db-a4bd-4c10-c8b6-0824941cc805"
      },
      "source": [
        "from sklearn.linear_model import LinearRegression\n",
        "\n",
        "model = LinearRegression()\n",
        "\n",
        "model.fit(X_train,y_train)"
      ],
      "execution_count": null,
      "outputs": [
        {
          "output_type": "execute_result",
          "data": {
            "text/plain": [
              "LinearRegression(copy_X=True, fit_intercept=True, n_jobs=None, normalize=False)"
            ]
          },
          "metadata": {
            "tags": []
          },
          "execution_count": 48
        }
      ]
    },
    {
      "cell_type": "markdown",
      "metadata": {
        "id": "9ro3uFXsn3os"
      },
      "source": [
        "The metrics we use in the below code are `explained_variance_score`, `mean_absolute_error`, and `r2_score`. Many other metrics are are available, mostly within the `sklearn.metrics` submodule."
      ]
    },
    {
      "cell_type": "code",
      "metadata": {
        "id": "clqXfuNRn3os",
        "colab": {
          "base_uri": "https://localhost:8080/"
        },
        "outputId": "f7be796c-8a00-40b8-8e20-5d00ac94cc65"
      },
      "source": [
        "from sklearn.metrics import explained_variance_score\n",
        "from sklearn.metrics import mean_absolute_error\n",
        "from sklearn.metrics import r2_score\n",
        "\n",
        "predictions = model.predict(X_test)\n",
        "print(\"\\t Explained variance:\", explained_variance_score(y_test, predictions))\n",
        "print(\"\\t Mean absolute error:\", mean_absolute_error(y_test, predictions))\n",
        "print(\"\\t R2 score:\", r2_score(y_test, predictions))"
      ],
      "execution_count": null,
      "outputs": [
        {
          "output_type": "stream",
          "text": [
            "\t Explained variance: 0.7679298430366015\n",
            "\t Mean absolute error: 3.770229765677265\n",
            "\t R2 score: 0.7673277868963236\n"
          ],
          "name": "stdout"
        }
      ]
    },
    {
      "cell_type": "markdown",
      "metadata": {
        "id": "StzDoqXKn3ot"
      },
      "source": [
        "The particular regressors we choose does not reflect any deep decision. Most are somewhat in the family of linear regression. RANSAC is tried because it is meant to be more resilient against outliers in data. This is sometimes more strongly predictive than generic linear regression. One of several Gaussian techniques is shown as an example—it behaves worthlessly for this example, at least without hyperparameter tuning."
      ]
    },
    {
      "cell_type": "code",
      "metadata": {
        "id": "bWTWqQlFn3ot"
      },
      "source": [
        "from time import time\n",
        "\n",
        "from sklearn.neighbors import KNeighborsRegressor\n",
        "from sklearn.linear_model import LinearRegression, RANSACRegressor\n",
        "from sklearn.gaussian_process import GaussianProcessRegressor\n",
        "from sklearn.svm import SVR\n",
        "from sklearn.svm import LinearSVR\n",
        "\n",
        "regressors = [\n",
        "    LinearRegression(), \n",
        "    RANSACRegressor(), \n",
        "    KNeighborsRegressor(),\n",
        "    KNeighborsRegressor(n_neighbors=9, metric='manhattan'),\n",
        "    SVR(),\n",
        "    LinearSVR(),\n",
        "    GaussianProcessRegressor(),\n",
        "    SVR(kernel='linear'), # Cf. LinearSVR: much slower, might be better or worse: \n",
        "]"
      ],
      "execution_count": null,
      "outputs": []
    },
    {
      "cell_type": "code",
      "metadata": {
        "id": "983xWHumn3ot",
        "colab": {
          "base_uri": "https://localhost:8080/"
        },
        "outputId": "310dc721-1ae6-48a7-9eb3-82e8825831bd"
      },
      "source": [
        "head = 6\n",
        "for model in regressors[:head]:\n",
        "    start = time()\n",
        "    model.fit(X_train, y_train)\n",
        "    train_time = time() - start\n",
        "    start = time()\n",
        "    predictions = model.predict(X_test)\n",
        "    predict_time = time()-start    \n",
        "    print(model)\n",
        "    print(\"\\tTraining time: %0.3fs\" % train_time)\n",
        "    print(\"\\tPrediction time: %0.3fs\" % predict_time)\n",
        "    print(\"\\tExplained variance:\", explained_variance_score(y_test, predictions))\n",
        "    print(\"\\tMean absolute error:\", mean_absolute_error(y_test, predictions))\n",
        "    print(\"\\tR2 score:\", r2_score(y_test, predictions))\n",
        "    print()"
      ],
      "execution_count": null,
      "outputs": [
        {
          "output_type": "stream",
          "text": [
            "LinearRegression(copy_X=True, fit_intercept=True, n_jobs=None, normalize=False)\n",
            "\tTraining time: 0.002s\n",
            "\tPrediction time: 0.001s\n",
            "\tExplained variance: 0.7679298430366015\n",
            "\tMean absolute error: 3.770229765677265\n",
            "\tR2 score: 0.7673277868963236\n",
            "\n",
            "RANSACRegressor(base_estimator=None, is_data_valid=None, is_model_valid=None,\n",
            "                loss='absolute_loss', max_skips=inf, max_trials=100,\n",
            "                min_samples=None, random_state=None, residual_threshold=None,\n",
            "                stop_n_inliers=inf, stop_probability=0.99, stop_score=inf)\n",
            "\tTraining time: 0.078s\n",
            "\tPrediction time: 0.001s\n",
            "\tExplained variance: 0.7284010031362382\n",
            "\tMean absolute error: 3.7319508300689104\n",
            "\tR2 score: 0.7072190179492154\n",
            "\n",
            "KNeighborsRegressor(algorithm='auto', leaf_size=30, metric='minkowski',\n",
            "                    metric_params=None, n_jobs=None, n_neighbors=5, p=2,\n",
            "                    weights='uniform')\n",
            "\tTraining time: 0.003s\n",
            "\tPrediction time: 0.003s\n",
            "\tExplained variance: 0.8149967220390241\n",
            "\tMean absolute error: 2.9662745098039216\n",
            "\tR2 score: 0.8050440435644359\n",
            "\n",
            "KNeighborsRegressor(algorithm='auto', leaf_size=30, metric='manhattan',\n",
            "                    metric_params=None, n_jobs=None, n_neighbors=9, p=2,\n",
            "                    weights='uniform')\n",
            "\tTraining time: 0.001s\n",
            "\tPrediction time: 0.003s\n",
            "\tExplained variance: 0.7914165734105774\n",
            "\tMean absolute error: 3.0198257080610023\n",
            "\tR2 score: 0.7856101769422305\n",
            "\n",
            "SVR(C=1.0, cache_size=200, coef0=0.0, degree=3, epsilon=0.1, gamma='scale',\n",
            "    kernel='rbf', max_iter=-1, shrinking=True, tol=0.001, verbose=False)\n",
            "\tTraining time: 0.016s\n",
            "\tPrediction time: 0.002s\n",
            "\tExplained variance: 0.6824020297452403\n",
            "\tMean absolute error: 3.3597502139898383\n",
            "\tR2 score: 0.673079745746787\n",
            "\n",
            "LinearSVR(C=1.0, dual=True, epsilon=0.0, fit_intercept=True,\n",
            "          intercept_scaling=1.0, loss='epsilon_insensitive', max_iter=1000,\n",
            "          random_state=None, tol=0.0001, verbose=0)\n",
            "\tTraining time: 0.003s\n",
            "\tPrediction time: 0.001s\n",
            "\tExplained variance: 0.7676703629005602\n",
            "\tMean absolute error: 3.440478358113755\n",
            "\tR2 score: 0.7602905208295739\n",
            "\n"
          ],
          "name": "stdout"
        }
      ]
    },
    {
      "cell_type": "markdown",
      "metadata": {
        "id": "-jmf5rjGn3ou"
      },
      "source": [
        "Two models that are very slow to train are omitted in the \"live\" output in this course.  Those outputs would be the following:\n",
        "\n",
        "```\n",
        "GaussianProcessRegressor(alpha=1e-10, copy_X_train=True, kernel=None,\n",
        "             n_restarts_optimizer=0, normalize_y=False,\n",
        "             optimizer='fmin_l_bfgs_b', random_state=None)\n",
        "    Training time: 161.517s\n",
        "    Prediction time: 4.571s\n",
        "    Explained variance: -0.0199393545636\n",
        "    Mean absolute error: 1.91320341763\n",
        "    R2 score: -2.79445305731\n",
        "    \n",
        "SVR(C=1.0, cache_size=200, coef0=0.0, degree=3, epsilon=0.1, gamma='auto',\n",
        "  kernel='linear', max_iter=-1, shrinking=True, tol=0.001, verbose=False)\n",
        "    Training time: 4458.012s\n",
        "    Prediction time: 0.843s\n",
        "    Explained variance: 0.527882057056\n",
        "    Mean absolute error: 0.601893862699\n",
        "    R2 score: 0.517431654021\n",
        "```\n",
        "\n",
        "Neither of these has an especially good R2 score for this particular data.  `GaussianProcessRegressor` is negative, in fact (which is very bad).  `SVR` with a linear kernel is moderately good, but not better than simple `LinearRegression`.  However, notice that even though training took well over an hour, prediction takes less than a second.  That is not the fasted predictor, but it is also not the slowest among those that train orders of magnitude faster.  If this model performed the best, it might be worth spending the one-time training cost, and then be able to regress sufficiently quickly."
      ]
    },
    {
      "cell_type": "markdown",
      "metadata": {
        "id": "N0h0wpgJn3o1"
      },
      "source": [
        "We can see that `DecisionTreeRegressor` is conceptually similar to `DecisionTreeClassifier`.  At certain cut-points in the data (here just one dimension) a switch is made to a different target value.  However, rather than simply predict a flipped boolean value as in the prior lesson, we predict a new quantitative level for the target around cut points."
      ]
    },
    {
      "cell_type": "markdown",
      "metadata": {
        "id": "yCx486m9n3o1"
      },
      "source": [
        "### Non-linearity in California Housing\n",
        "\n",
        "Let us try a decision tree style against the multi-dimensional California housing data.  So far, a simple `LinearRegression` was the best we had done against this dataset.  As well as `DecisionTreeRegressor` of several different depths, we will add in `RandomForestRegressor`.  From [the documentation](http://scikit-learn.org/stable/modules/generated/sklearn.ensemble.RandomForestRegressor.html):\n",
        "\n",
        "> A random forest is a meta estimator that fits a number of classifying decision trees on various sub-samples of the dataset and uses averaging to improve the predictive accuracy and control over-fitting. "
      ]
    },
    {
      "cell_type": "code",
      "metadata": {
        "id": "LydVUtG8n3o1",
        "colab": {
          "base_uri": "https://localhost:8080/"
        },
        "outputId": "cd73b20d-c9c4-4d98-b794-959cdf837bf6"
      },
      "source": [
        "from sklearn.tree import DecisionTreeRegressor\n",
        "from sklearn.ensemble import RandomForestRegressor, GradientBoostingRegressor\n",
        "from sklearn.svm import SVR\n",
        "\n",
        "\n",
        "regressors = [LinearRegression(),\n",
        "              DecisionTreeRegressor(max_depth=5),\n",
        "              DecisionTreeRegressor(max_depth=10),\n",
        "              DecisionTreeRegressor(max_depth=20),\n",
        "              RandomForestRegressor(max_depth=10),\n",
        "              GradientBoostingRegressor(n_estimators=200),\n",
        "              SVR(),]\n",
        "\n",
        "for model in regressors:\n",
        "    model.fit(X_train, y_train)\n",
        "    predictions = model.predict(X_test)\n",
        "    print(model)\n",
        "    print(\"\\tExplained variance:\", explained_variance_score(y_test, predictions))\n",
        "    print(\"\\tMean absolute error:\", mean_absolute_error(y_test, predictions))\n",
        "    print(\"\\tR2 score:\", r2_score(y_test, predictions))\n",
        "    print()"
      ],
      "execution_count": null,
      "outputs": [
        {
          "output_type": "stream",
          "text": [
            "LinearRegression(copy_X=True, fit_intercept=True, n_jobs=None, normalize=False)\n",
            "\tExplained variance: 0.7679298430366015\n",
            "\tMean absolute error: 3.770229765677265\n",
            "\tR2 score: 0.7673277868963236\n",
            "\n",
            "DecisionTreeRegressor(ccp_alpha=0.0, criterion='mse', max_depth=5,\n",
            "                      max_features=None, max_leaf_nodes=None,\n",
            "                      min_impurity_decrease=0.0, min_impurity_split=None,\n",
            "                      min_samples_leaf=1, min_samples_split=2,\n",
            "                      min_weight_fraction_leaf=0.0, presort='deprecated',\n",
            "                      random_state=None, splitter='best')\n",
            "\tExplained variance: 0.8744695373216704\n",
            "\tMean absolute error: 2.7937264158536963\n",
            "\tR2 score: 0.8743950938461766\n",
            "\n",
            "DecisionTreeRegressor(ccp_alpha=0.0, criterion='mse', max_depth=10,\n",
            "                      max_features=None, max_leaf_nodes=None,\n",
            "                      min_impurity_decrease=0.0, min_impurity_split=None,\n",
            "                      min_samples_leaf=1, min_samples_split=2,\n",
            "                      min_weight_fraction_leaf=0.0, presort='deprecated',\n",
            "                      random_state=None, splitter='best')\n",
            "\tExplained variance: 0.8327146204237329\n",
            "\tMean absolute error: 2.8020294216228474\n",
            "\tR2 score: 0.830751077250445\n",
            "\n",
            "DecisionTreeRegressor(ccp_alpha=0.0, criterion='mse', max_depth=20,\n",
            "                      max_features=None, max_leaf_nodes=None,\n",
            "                      min_impurity_decrease=0.0, min_impurity_split=None,\n",
            "                      min_samples_leaf=1, min_samples_split=2,\n",
            "                      min_weight_fraction_leaf=0.0, presort='deprecated',\n",
            "                      random_state=None, splitter='best')\n",
            "\tExplained variance: 0.8155214447739437\n",
            "\tMean absolute error: 2.9823529411764707\n",
            "\tR2 score: 0.8145747030422559\n",
            "\n",
            "RandomForestRegressor(bootstrap=True, ccp_alpha=0.0, criterion='mse',\n",
            "                      max_depth=10, max_features='auto', max_leaf_nodes=None,\n",
            "                      max_samples=None, min_impurity_decrease=0.0,\n",
            "                      min_impurity_split=None, min_samples_leaf=1,\n",
            "                      min_samples_split=2, min_weight_fraction_leaf=0.0,\n",
            "                      n_estimators=100, n_jobs=None, oob_score=False,\n",
            "                      random_state=None, verbose=0, warm_start=False)\n",
            "\tExplained variance: 0.9060480405385429\n",
            "\tMean absolute error: 2.333985191541144\n",
            "\tR2 score: 0.9060363526368668\n",
            "\n",
            "GradientBoostingRegressor(alpha=0.9, ccp_alpha=0.0, criterion='friedman_mse',\n",
            "                          init=None, learning_rate=0.1, loss='ls', max_depth=3,\n",
            "                          max_features=None, max_leaf_nodes=None,\n",
            "                          min_impurity_decrease=0.0, min_impurity_split=None,\n",
            "                          min_samples_leaf=1, min_samples_split=2,\n",
            "                          min_weight_fraction_leaf=0.0, n_estimators=200,\n",
            "                          n_iter_no_change=None, presort='deprecated',\n",
            "                          random_state=None, subsample=1.0, tol=0.0001,\n",
            "                          validation_fraction=0.1, verbose=0, warm_start=False)\n",
            "\tExplained variance: 0.9098565589501769\n",
            "\tMean absolute error: 2.28023105379565\n",
            "\tR2 score: 0.9098420146249434\n",
            "\n",
            "SVR(C=1.0, cache_size=200, coef0=0.0, degree=3, epsilon=0.1, gamma='scale',\n",
            "    kernel='rbf', max_iter=-1, shrinking=True, tol=0.001, verbose=False)\n",
            "\tExplained variance: 0.6824020297452403\n",
            "\tMean absolute error: 3.3597502139898383\n",
            "\tR2 score: 0.673079745746787\n",
            "\n"
          ],
          "name": "stdout"
        }
      ]
    }
  ]
}